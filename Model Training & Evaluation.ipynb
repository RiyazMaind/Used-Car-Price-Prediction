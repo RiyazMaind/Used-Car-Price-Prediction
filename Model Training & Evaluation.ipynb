{
 "cells": [
  {
   "cell_type": "markdown",
   "id": "57c4a15e-2717-43e9-9bdc-967f09850095",
   "metadata": {},
   "source": [
    "# Model Training & Evaluation"
   ]
  },
  {
   "cell_type": "markdown",
   "id": "2f417ad4-f411-4193-bf56-0ad05a57638e",
   "metadata": {},
   "source": [
    "## Load and Inspect the Data"
   ]
  },
  {
   "cell_type": "code",
   "execution_count": 1,
   "id": "58361d5e-649d-4b57-b0f1-b37850589125",
   "metadata": {},
   "outputs": [
    {
     "data": {
      "text/html": [
       "<div>\n",
       "<style scoped>\n",
       "    .dataframe tbody tr th:only-of-type {\n",
       "        vertical-align: middle;\n",
       "    }\n",
       "\n",
       "    .dataframe tbody tr th {\n",
       "        vertical-align: top;\n",
       "    }\n",
       "\n",
       "    .dataframe thead th {\n",
       "        text-align: right;\n",
       "    }\n",
       "</style>\n",
       "<table border=\"1\" class=\"dataframe\">\n",
       "  <thead>\n",
       "    <tr style=\"text-align: right;\">\n",
       "      <th></th>\n",
       "      <th>Name</th>\n",
       "      <th>Location</th>\n",
       "      <th>Year</th>\n",
       "      <th>Kilometers_Driven</th>\n",
       "      <th>Mileage</th>\n",
       "      <th>Engine</th>\n",
       "      <th>Power</th>\n",
       "      <th>Seats</th>\n",
       "      <th>Price</th>\n",
       "      <th>Fuel_Type_Diesel</th>\n",
       "      <th>Fuel_Type_Electric</th>\n",
       "      <th>Fuel_Type_LPG</th>\n",
       "      <th>Fuel_Type_Petrol</th>\n",
       "      <th>Transmission_Manual</th>\n",
       "      <th>Owner_Type_Fourth &amp; Above</th>\n",
       "      <th>Owner_Type_Second</th>\n",
       "      <th>Owner_Type_Third</th>\n",
       "    </tr>\n",
       "  </thead>\n",
       "  <tbody>\n",
       "    <tr>\n",
       "      <th>0</th>\n",
       "      <td>Maruti Wagon R LXI CNG</td>\n",
       "      <td>Mumbai</td>\n",
       "      <td>2010</td>\n",
       "      <td>72000</td>\n",
       "      <td>26.60</td>\n",
       "      <td>998.0</td>\n",
       "      <td>58.16</td>\n",
       "      <td>5.0</td>\n",
       "      <td>1.75</td>\n",
       "      <td>False</td>\n",
       "      <td>False</td>\n",
       "      <td>False</td>\n",
       "      <td>False</td>\n",
       "      <td>True</td>\n",
       "      <td>False</td>\n",
       "      <td>False</td>\n",
       "      <td>False</td>\n",
       "    </tr>\n",
       "    <tr>\n",
       "      <th>1</th>\n",
       "      <td>Hyundai Creta 1.6 CRDi SX Option</td>\n",
       "      <td>Pune</td>\n",
       "      <td>2015</td>\n",
       "      <td>41000</td>\n",
       "      <td>19.67</td>\n",
       "      <td>1582.0</td>\n",
       "      <td>126.20</td>\n",
       "      <td>5.0</td>\n",
       "      <td>12.50</td>\n",
       "      <td>True</td>\n",
       "      <td>False</td>\n",
       "      <td>False</td>\n",
       "      <td>False</td>\n",
       "      <td>True</td>\n",
       "      <td>False</td>\n",
       "      <td>False</td>\n",
       "      <td>False</td>\n",
       "    </tr>\n",
       "    <tr>\n",
       "      <th>2</th>\n",
       "      <td>Honda Jazz V</td>\n",
       "      <td>Chennai</td>\n",
       "      <td>2011</td>\n",
       "      <td>46000</td>\n",
       "      <td>18.20</td>\n",
       "      <td>1199.0</td>\n",
       "      <td>88.70</td>\n",
       "      <td>5.0</td>\n",
       "      <td>4.50</td>\n",
       "      <td>False</td>\n",
       "      <td>False</td>\n",
       "      <td>False</td>\n",
       "      <td>True</td>\n",
       "      <td>True</td>\n",
       "      <td>False</td>\n",
       "      <td>False</td>\n",
       "      <td>False</td>\n",
       "    </tr>\n",
       "    <tr>\n",
       "      <th>3</th>\n",
       "      <td>Maruti Ertiga VDI</td>\n",
       "      <td>Chennai</td>\n",
       "      <td>2012</td>\n",
       "      <td>87000</td>\n",
       "      <td>20.77</td>\n",
       "      <td>1248.0</td>\n",
       "      <td>88.76</td>\n",
       "      <td>7.0</td>\n",
       "      <td>6.00</td>\n",
       "      <td>True</td>\n",
       "      <td>False</td>\n",
       "      <td>False</td>\n",
       "      <td>False</td>\n",
       "      <td>True</td>\n",
       "      <td>False</td>\n",
       "      <td>False</td>\n",
       "      <td>False</td>\n",
       "    </tr>\n",
       "    <tr>\n",
       "      <th>4</th>\n",
       "      <td>Audi A4 New 2.0 TDI Multitronic</td>\n",
       "      <td>Coimbatore</td>\n",
       "      <td>2013</td>\n",
       "      <td>40670</td>\n",
       "      <td>15.20</td>\n",
       "      <td>1968.0</td>\n",
       "      <td>140.80</td>\n",
       "      <td>5.0</td>\n",
       "      <td>17.74</td>\n",
       "      <td>True</td>\n",
       "      <td>False</td>\n",
       "      <td>False</td>\n",
       "      <td>False</td>\n",
       "      <td>False</td>\n",
       "      <td>False</td>\n",
       "      <td>True</td>\n",
       "      <td>False</td>\n",
       "    </tr>\n",
       "  </tbody>\n",
       "</table>\n",
       "</div>"
      ],
      "text/plain": [
       "                               Name    Location  Year  Kilometers_Driven  \\\n",
       "0            Maruti Wagon R LXI CNG      Mumbai  2010              72000   \n",
       "1  Hyundai Creta 1.6 CRDi SX Option        Pune  2015              41000   \n",
       "2                      Honda Jazz V     Chennai  2011              46000   \n",
       "3                 Maruti Ertiga VDI     Chennai  2012              87000   \n",
       "4   Audi A4 New 2.0 TDI Multitronic  Coimbatore  2013              40670   \n",
       "\n",
       "   Mileage  Engine   Power  Seats  Price  Fuel_Type_Diesel  \\\n",
       "0    26.60   998.0   58.16    5.0   1.75             False   \n",
       "1    19.67  1582.0  126.20    5.0  12.50              True   \n",
       "2    18.20  1199.0   88.70    5.0   4.50             False   \n",
       "3    20.77  1248.0   88.76    7.0   6.00              True   \n",
       "4    15.20  1968.0  140.80    5.0  17.74              True   \n",
       "\n",
       "   Fuel_Type_Electric  Fuel_Type_LPG  Fuel_Type_Petrol  Transmission_Manual  \\\n",
       "0               False          False             False                 True   \n",
       "1               False          False             False                 True   \n",
       "2               False          False              True                 True   \n",
       "3               False          False             False                 True   \n",
       "4               False          False             False                False   \n",
       "\n",
       "   Owner_Type_Fourth & Above  Owner_Type_Second  Owner_Type_Third  \n",
       "0                      False              False             False  \n",
       "1                      False              False             False  \n",
       "2                      False              False             False  \n",
       "3                      False              False             False  \n",
       "4                      False               True             False  "
      ]
     },
     "execution_count": 1,
     "metadata": {},
     "output_type": "execute_result"
    }
   ],
   "source": [
    "import pandas as pd\n",
    "\n",
    "# Load cleaned data\n",
    "train_df = pd.read_csv(\"cleaned_train.csv\")\n",
    "test_df = pd.read_csv(\"cleaned_test.csv\")\n",
    "\n",
    "# Display first few rows\n",
    "train_df.head()"
   ]
  },
  {
   "cell_type": "code",
   "execution_count": 2,
   "id": "b8c342c7-e9aa-4f83-b912-543c556ab281",
   "metadata": {},
   "outputs": [
    {
     "data": {
      "text/plain": [
       "Name                           0\n",
       "Location                       0\n",
       "Year                           0\n",
       "Kilometers_Driven              0\n",
       "Mileage                        2\n",
       "Engine                        36\n",
       "Power                        143\n",
       "Seats                          0\n",
       "Price                          0\n",
       "Fuel_Type_Diesel               0\n",
       "Fuel_Type_Electric             0\n",
       "Fuel_Type_LPG                  0\n",
       "Fuel_Type_Petrol               0\n",
       "Transmission_Manual            0\n",
       "Owner_Type_Fourth & Above      0\n",
       "Owner_Type_Second              0\n",
       "Owner_Type_Third               0\n",
       "dtype: int64"
      ]
     },
     "execution_count": 2,
     "metadata": {},
     "output_type": "execute_result"
    }
   ],
   "source": [
    "train_df.isnull().sum()"
   ]
  },
  {
   "cell_type": "code",
   "execution_count": 3,
   "id": "8a02b36c-7854-4125-8ba5-b0c40547c76f",
   "metadata": {},
   "outputs": [
    {
     "data": {
      "text/plain": [
       "Name                          0\n",
       "Location                      0\n",
       "Year                          0\n",
       "Kilometers_Driven             0\n",
       "Mileage                       0\n",
       "Engine                       10\n",
       "Power                        32\n",
       "Seats                         0\n",
       "Fuel_Type_Diesel              0\n",
       "Fuel_Type_LPG                 0\n",
       "Fuel_Type_Petrol              0\n",
       "Transmission_Manual           0\n",
       "Owner_Type_Fourth & Above     0\n",
       "Owner_Type_Second             0\n",
       "Owner_Type_Third              0\n",
       "dtype: int64"
      ]
     },
     "execution_count": 3,
     "metadata": {},
     "output_type": "execute_result"
    }
   ],
   "source": [
    "test_df.isnull().sum()"
   ]
  },
  {
   "cell_type": "code",
   "execution_count": 4,
   "id": "a7e9fb79-f00f-440d-aa51-205974ba1fdb",
   "metadata": {},
   "outputs": [],
   "source": [
    "train_df = train_df.dropna()"
   ]
  },
  {
   "cell_type": "code",
   "execution_count": 5,
   "id": "58833f91-aa5a-4c83-8299-be7bab70d3d2",
   "metadata": {},
   "outputs": [
    {
     "data": {
      "text/plain": [
       "Name                         0\n",
       "Location                     0\n",
       "Year                         0\n",
       "Kilometers_Driven            0\n",
       "Mileage                      0\n",
       "Engine                       0\n",
       "Power                        0\n",
       "Seats                        0\n",
       "Price                        0\n",
       "Fuel_Type_Diesel             0\n",
       "Fuel_Type_Electric           0\n",
       "Fuel_Type_LPG                0\n",
       "Fuel_Type_Petrol             0\n",
       "Transmission_Manual          0\n",
       "Owner_Type_Fourth & Above    0\n",
       "Owner_Type_Second            0\n",
       "Owner_Type_Third             0\n",
       "dtype: int64"
      ]
     },
     "execution_count": 5,
     "metadata": {},
     "output_type": "execute_result"
    }
   ],
   "source": [
    "train_df.isnull().sum()"
   ]
  },
  {
   "cell_type": "markdown",
   "id": "0be72f53-c591-42b2-b0b4-2eee0ca2a099",
   "metadata": {},
   "source": [
    "## Prepare Features & Target"
   ]
  },
  {
   "cell_type": "code",
   "execution_count": 6,
   "id": "b94683cd-693b-4659-aa71-39ebcaf05510",
   "metadata": {},
   "outputs": [
    {
     "data": {
      "text/html": [
       "<div>\n",
       "<style scoped>\n",
       "    .dataframe tbody tr th:only-of-type {\n",
       "        vertical-align: middle;\n",
       "    }\n",
       "\n",
       "    .dataframe tbody tr th {\n",
       "        vertical-align: top;\n",
       "    }\n",
       "\n",
       "    .dataframe thead th {\n",
       "        text-align: right;\n",
       "    }\n",
       "</style>\n",
       "<table border=\"1\" class=\"dataframe\">\n",
       "  <thead>\n",
       "    <tr style=\"text-align: right;\">\n",
       "      <th></th>\n",
       "      <th>Year</th>\n",
       "      <th>Kilometers_Driven</th>\n",
       "      <th>Mileage</th>\n",
       "      <th>Engine</th>\n",
       "      <th>Power</th>\n",
       "      <th>Seats</th>\n",
       "      <th>Fuel_Type_Diesel</th>\n",
       "      <th>Fuel_Type_Electric</th>\n",
       "      <th>Fuel_Type_LPG</th>\n",
       "      <th>Fuel_Type_Petrol</th>\n",
       "      <th>Transmission_Manual</th>\n",
       "      <th>Owner_Type_Fourth &amp; Above</th>\n",
       "      <th>Owner_Type_Second</th>\n",
       "      <th>Owner_Type_Third</th>\n",
       "    </tr>\n",
       "  </thead>\n",
       "  <tbody>\n",
       "    <tr>\n",
       "      <th>0</th>\n",
       "      <td>2010</td>\n",
       "      <td>72000</td>\n",
       "      <td>26.60</td>\n",
       "      <td>998.0</td>\n",
       "      <td>58.16</td>\n",
       "      <td>5.0</td>\n",
       "      <td>False</td>\n",
       "      <td>False</td>\n",
       "      <td>False</td>\n",
       "      <td>False</td>\n",
       "      <td>True</td>\n",
       "      <td>False</td>\n",
       "      <td>False</td>\n",
       "      <td>False</td>\n",
       "    </tr>\n",
       "    <tr>\n",
       "      <th>1</th>\n",
       "      <td>2015</td>\n",
       "      <td>41000</td>\n",
       "      <td>19.67</td>\n",
       "      <td>1582.0</td>\n",
       "      <td>126.20</td>\n",
       "      <td>5.0</td>\n",
       "      <td>True</td>\n",
       "      <td>False</td>\n",
       "      <td>False</td>\n",
       "      <td>False</td>\n",
       "      <td>True</td>\n",
       "      <td>False</td>\n",
       "      <td>False</td>\n",
       "      <td>False</td>\n",
       "    </tr>\n",
       "    <tr>\n",
       "      <th>2</th>\n",
       "      <td>2011</td>\n",
       "      <td>46000</td>\n",
       "      <td>18.20</td>\n",
       "      <td>1199.0</td>\n",
       "      <td>88.70</td>\n",
       "      <td>5.0</td>\n",
       "      <td>False</td>\n",
       "      <td>False</td>\n",
       "      <td>False</td>\n",
       "      <td>True</td>\n",
       "      <td>True</td>\n",
       "      <td>False</td>\n",
       "      <td>False</td>\n",
       "      <td>False</td>\n",
       "    </tr>\n",
       "    <tr>\n",
       "      <th>3</th>\n",
       "      <td>2012</td>\n",
       "      <td>87000</td>\n",
       "      <td>20.77</td>\n",
       "      <td>1248.0</td>\n",
       "      <td>88.76</td>\n",
       "      <td>7.0</td>\n",
       "      <td>True</td>\n",
       "      <td>False</td>\n",
       "      <td>False</td>\n",
       "      <td>False</td>\n",
       "      <td>True</td>\n",
       "      <td>False</td>\n",
       "      <td>False</td>\n",
       "      <td>False</td>\n",
       "    </tr>\n",
       "    <tr>\n",
       "      <th>4</th>\n",
       "      <td>2013</td>\n",
       "      <td>40670</td>\n",
       "      <td>15.20</td>\n",
       "      <td>1968.0</td>\n",
       "      <td>140.80</td>\n",
       "      <td>5.0</td>\n",
       "      <td>True</td>\n",
       "      <td>False</td>\n",
       "      <td>False</td>\n",
       "      <td>False</td>\n",
       "      <td>False</td>\n",
       "      <td>False</td>\n",
       "      <td>True</td>\n",
       "      <td>False</td>\n",
       "    </tr>\n",
       "  </tbody>\n",
       "</table>\n",
       "</div>"
      ],
      "text/plain": [
       "   Year  Kilometers_Driven  Mileage  Engine   Power  Seats  Fuel_Type_Diesel  \\\n",
       "0  2010              72000    26.60   998.0   58.16    5.0             False   \n",
       "1  2015              41000    19.67  1582.0  126.20    5.0              True   \n",
       "2  2011              46000    18.20  1199.0   88.70    5.0             False   \n",
       "3  2012              87000    20.77  1248.0   88.76    7.0              True   \n",
       "4  2013              40670    15.20  1968.0  140.80    5.0              True   \n",
       "\n",
       "   Fuel_Type_Electric  Fuel_Type_LPG  Fuel_Type_Petrol  Transmission_Manual  \\\n",
       "0               False          False             False                 True   \n",
       "1               False          False             False                 True   \n",
       "2               False          False              True                 True   \n",
       "3               False          False             False                 True   \n",
       "4               False          False             False                False   \n",
       "\n",
       "   Owner_Type_Fourth & Above  Owner_Type_Second  Owner_Type_Third  \n",
       "0                      False              False             False  \n",
       "1                      False              False             False  \n",
       "2                      False              False             False  \n",
       "3                      False              False             False  \n",
       "4                      False               True             False  "
      ]
     },
     "execution_count": 6,
     "metadata": {},
     "output_type": "execute_result"
    }
   ],
   "source": [
    "# Drop unnecessary columns\n",
    "X = train_df.drop(columns=[\"Price\", \"Name\", \"Location\"])\n",
    "y = train_df[\"Price\"]\n",
    "\n",
    "# Check features\n",
    "X.head()"
   ]
  },
  {
   "cell_type": "markdown",
   "id": "98ad9e25-2484-477e-841d-578273cfd22c",
   "metadata": {},
   "source": [
    "## Train-Test Split"
   ]
  },
  {
   "cell_type": "code",
   "execution_count": 7,
   "id": "d2cc7317-d310-4ed6-8eff-5eea643514aa",
   "metadata": {},
   "outputs": [
    {
     "name": "stdout",
     "output_type": "stream",
     "text": [
      "Training samples: 4699, Validation samples: 1175\n"
     ]
    }
   ],
   "source": [
    "from sklearn.model_selection import train_test_split\n",
    "\n",
    "# Split data (80% train, 20% test)\n",
    "X_train, X_val, y_train, y_val = train_test_split(X, y, test_size=0.2, random_state=42)\n",
    "\n",
    "print(f\"Training samples: {X_train.shape[0]}, Validation samples: {X_val.shape[0]}\")"
   ]
  },
  {
   "cell_type": "markdown",
   "id": "6f28325a-5dce-4e4e-84fd-681a04497f9b",
   "metadata": {},
   "source": [
    "# Train Models"
   ]
  },
  {
   "cell_type": "markdown",
   "id": "9506646e-10b0-4feb-9655-d7c4fe8407ed",
   "metadata": {},
   "source": [
    "## Linear Regression"
   ]
  },
  {
   "cell_type": "code",
   "execution_count": 8,
   "id": "4a1a2d72-9132-4135-b545-59673bd112ea",
   "metadata": {},
   "outputs": [
    {
     "name": "stdout",
     "output_type": "stream",
     "text": [
      "Linear Regression - R²: 0.689, RMSE: 5.798, MAE: 3.773\n"
     ]
    }
   ],
   "source": [
    "from sklearn.linear_model import LinearRegression\n",
    "from sklearn.metrics import r2_score, mean_absolute_error, mean_squared_error\n",
    "\n",
    "# Train model\n",
    "lr_model = LinearRegression()\n",
    "lr_model.fit(X_train, y_train)\n",
    "\n",
    "# Predictions\n",
    "y_pred_lr = lr_model.predict(X_val)\n",
    "\n",
    "# Evaluate\n",
    "r2_lr = r2_score(y_val, y_pred_lr)\n",
    "rmse_lr = mean_squared_error(y_val, y_pred_lr) ** 0.5\n",
    "mae_lr = mean_absolute_error(y_val, y_pred_lr)\n",
    "\n",
    "print(f\"Linear Regression - R²: {r2_lr:.3f}, RMSE: {rmse_lr:.3f}, MAE: {mae_lr:.3f}\")"
   ]
  },
  {
   "cell_type": "markdown",
   "id": "a790c2c4-2306-4b5e-93a7-97df80838fd2",
   "metadata": {},
   "source": [
    "## Random Forest Regressor"
   ]
  },
  {
   "cell_type": "code",
   "execution_count": 9,
   "id": "250ce09f-2f3d-43e7-87ec-10ac6958d6c4",
   "metadata": {},
   "outputs": [
    {
     "name": "stdout",
     "output_type": "stream",
     "text": [
      "Random Forest - R²: 0.982, RMSE: 1.516, MAE: 0.619\n"
     ]
    }
   ],
   "source": [
    "from sklearn.ensemble import RandomForestRegressor\n",
    "\n",
    "# Train model\n",
    "rf_model = RandomForestRegressor(n_estimators=100, random_state=42)\n",
    "rf_model.fit(X_train, y_train)\n",
    "\n",
    "# Predictions\n",
    "y_pred_rf = rf_model.predict(X_train)\n",
    "\n",
    "# Evaluate\n",
    "r2_rf = r2_score(y_train, y_pred_rf)\n",
    "rmse_rf = mean_squared_error(y_train, y_pred_rf) ** 0.5\n",
    "mae_rf = mean_absolute_error(y_train, y_pred_rf)\n",
    "\n",
    "print(f\"Random Forest - R²: {r2_rf:.3f}, RMSE: {rmse_rf:.3f}, MAE: {mae_rf:.3f}\")"
   ]
  },
  {
   "cell_type": "markdown",
   "id": "a8412e14-8f75-453e-ab75-24d5a2640ae4",
   "metadata": {},
   "source": [
    "## XGBoost Regressor"
   ]
  },
  {
   "cell_type": "code",
   "execution_count": 10,
   "id": "379ab69e-ef94-462e-88c4-5603d09be47c",
   "metadata": {},
   "outputs": [
    {
     "name": "stdout",
     "output_type": "stream",
     "text": [
      "XGBoost - R²: 0.993, RMSE: 0.959, MAE: 0.662\n"
     ]
    }
   ],
   "source": [
    "from xgboost import XGBRegressor\n",
    "\n",
    "# Train model\n",
    "xgb_model = XGBRegressor(n_estimators=100, random_state=42)\n",
    "xgb_model.fit(X_train, y_train)\n",
    "\n",
    "# Predictions\n",
    "y_pred_xgb = xgb_model.predict(X_train)\n",
    "\n",
    "# Evaluate\n",
    "r2_xgb = r2_score(y_train, y_pred_xgb)\n",
    "rmse_xgb = mean_squared_error(y_train, y_pred_xgb) ** 0.5\n",
    "mae_xgb = mean_absolute_error(y_train, y_pred_xgb)\n",
    "\n",
    "print(f\"XGBoost - R²: {r2_xgb:.3f}, RMSE: {rmse_xgb:.3f}, MAE: {mae_xgb:.3f}\")"
   ]
  },
  {
   "cell_type": "markdown",
   "id": "5df8817d-3e2e-4791-9a0e-9e59b226053b",
   "metadata": {},
   "source": [
    "## Compare Model Performance"
   ]
  },
  {
   "cell_type": "code",
   "execution_count": 11,
   "id": "45004885-c781-491c-8625-a7f5e4aca329",
   "metadata": {},
   "outputs": [
    {
     "data": {
      "image/png": "[encoded data removed]",
      "text/plain": [
       "<Figure size 800x500 with 1 Axes>"
      ]
     },
     "metadata": {},
     "output_type": "display_data"
    }
   ],
   "source": [
    "import matplotlib.pyplot as plt\n",
    "\n",
    "models = [\"Linear Regression\", \"Random Forest\", \"XGBoost\"]\n",
    "r2_scores = [r2_lr, r2_rf, r2_xgb]\n",
    "rmse_scores = [rmse_lr, rmse_rf, rmse_xgb]\n",
    "\n",
    "plt.figure(figsize=(8, 5))\n",
    "plt.bar(models, r2_scores, color=['blue', 'green', 'red'])\n",
    "plt.xlabel(\"Model\")\n",
    "plt.ylabel(\"R² Score\")\n",
    "plt.title(\"Model Performance Comparison (Higher is better)\")\n",
    "plt.savefig(\"model_performance.png\", dpi=300, bbox_inches='tight')\n",
    "plt.show()"
   ]
  },
  {
   "cell_type": "markdown",
   "id": "0c0db84b-3d10-4f6d-8559-965a90f80f82",
   "metadata": {},
   "source": [
    "## Save the Best Model"
   ]
  },
  {
   "cell_type": "code",
   "execution_count": 12,
   "id": "4210eddb-addc-4e7c-8f66-35a623d1e12f",
   "metadata": {},
   "outputs": [
    {
     "name": "stdout",
     "output_type": "stream",
     "text": [
      "Model saved successfully!\n"
     ]
    }
   ],
   "source": [
    "import joblib\n",
    "\n",
    "joblib.dump(xgb_model, \"best_car_price_model.pkl\")\n",
    "print(\"Model saved successfully!\")"
   ]
  },
  {
   "cell_type": "markdown",
   "id": "25001a8e-f457-43b0-86ce-80b9eddd81a9",
   "metadata": {},
   "source": [
    "# Feature Engineering"
   ]
  },
  {
   "cell_type": "markdown",
   "id": "220b31d4-1ef0-4887-93d1-4a518afae4b4",
   "metadata": {},
   "source": [
    "## 1.1 Handling Missing Values"
   ]
  },
  {
   "cell_type": "code",
   "execution_count": 13,
   "id": "e40e5095-896e-4f5b-9c49-cdc9f81c4b9b",
   "metadata": {},
   "outputs": [
    {
     "name": "stdout",
     "output_type": "stream",
     "text": [
      "Series([], dtype: int64)\n"
     ]
    }
   ],
   "source": [
    "# Check missing values\n",
    "missing_values = X_train.isnull().sum()\n",
    "print(missing_values[missing_values > 0])"
   ]
  },
  {
   "cell_type": "markdown",
   "id": "2c44429a-ea75-4457-b426-94c7e332bbb7",
   "metadata": {},
   "source": [
    "## 1.2 Feature Transformation (Scaling & Normalization)"
   ]
  },
  {
   "cell_type": "code",
   "execution_count": 14,
   "id": "6d9c98f4-7127-4d81-a9f8-b7475b825b62",
   "metadata": {},
   "outputs": [],
   "source": [
    "from sklearn.preprocessing import StandardScaler\n",
    "\n",
    "scaler = StandardScaler()\n",
    "X_train_scaled = scaler.fit_transform(X_train)\n",
    "X_test_scaled = scaler.transform(X_val)"
   ]
  },
  {
   "cell_type": "code",
   "execution_count": 15,
   "id": "1c9530f6-e444-4f3b-8929-7aaa0358723a",
   "metadata": {},
   "outputs": [
    {
     "name": "stdout",
     "output_type": "stream",
     "text": [
      "Categorical Columns: Index([], dtype='object')\n"
     ]
    }
   ],
   "source": [
    "# Check for object (categorical) columns\n",
    "cat_cols = X_train.select_dtypes(include=[\"object\"]).columns\n",
    "print(\"Categorical Columns:\", cat_cols)"
   ]
  },
  {
   "cell_type": "markdown",
   "id": "f396232e-23c6-4687-add0-f128392c22ac",
   "metadata": {},
   "source": [
    "## 1.3 Feature Selection"
   ]
  },
  {
   "cell_type": "code",
   "execution_count": 16,
   "id": "ea052bde-110c-413b-b119-a4b4a07d04e5",
   "metadata": {},
   "outputs": [
    {
     "data": {
      "image/png": "[encoded data removed]",
      "text/plain": [
       "<Figure size 640x480 with 1 Axes>"
      ]
     },
     "metadata": {},
     "output_type": "display_data"
    }
   ],
   "source": [
    "import matplotlib.pyplot as plt\n",
    "import seaborn as sns\n",
    "\n",
    "# Check feature importance using Random Forest\n",
    "from sklearn.ensemble import RandomForestRegressor\n",
    "\n",
    "rf_model = RandomForestRegressor(n_estimators=100, random_state=42)\n",
    "rf_model.fit(X_train, y_train)\n",
    "\n",
    "# Plot feature importance\n",
    "feature_importances = pd.Series(rf_model.feature_importances_, index=X_train.columns)\n",
    "feature_importances.nlargest(10).plot(kind='barh')\n",
    "plt.savefig(\"feature_importance.png\", dpi=300, bbox_inches='tight')\n",
    "plt.show()"
   ]
  },
  {
   "cell_type": "markdown",
   "id": "730524c1-4c1f-430b-8377-b2a5ef82fd0c",
   "metadata": {},
   "source": [
    "# Hyperparameter Tuning"
   ]
  },
  {
   "cell_type": "markdown",
   "id": "8926ea62-194f-4718-b187-3ee4c8036155",
   "metadata": {},
   "source": [
    "## 2.1 Random Forest Hyperparameter Tuning"
   ]
  },
  {
   "cell_type": "code",
   "execution_count": 17,
   "id": "7ca6fee3-4810-4a40-8f1a-dfdcb6dab622",
   "metadata": {},
   "outputs": [
    {
     "name": "stdout",
     "output_type": "stream",
     "text": [
      "Best Parameters for RF: {'n_estimators': 300, 'min_samples_split': 5, 'min_samples_leaf': 2, 'max_depth': None}\n"
     ]
    }
   ],
   "source": [
    "from sklearn.model_selection import RandomizedSearchCV\n",
    "\n",
    "param_grid_rf = {\n",
    "    \"n_estimators\": [100, 200, 300],\n",
    "    \"max_depth\": [None, 10, 20],\n",
    "    \"min_samples_split\": [2, 5, 10],\n",
    "    \"min_samples_leaf\": [1, 2, 4]\n",
    "}\n",
    "\n",
    "rf_search = RandomizedSearchCV(RandomForestRegressor(random_state=42),\n",
    "                               param_grid_rf, cv=3, scoring=\"r2\", n_jobs=-1)\n",
    "rf_search.fit(X_train, y_train)\n",
    "\n",
    "print(\"Best Parameters for RF:\", rf_search.best_params_)"
   ]
  },
  {
   "cell_type": "markdown",
   "id": "6f5ec609-3621-4128-8b51-8fd2dbf95cde",
   "metadata": {},
   "source": [
    "## XGBoost Hyperparameter Tuning"
   ]
  },
  {
   "cell_type": "code",
   "execution_count": 18,
   "id": "6597c138-7dc5-4fdd-9300-c430019330df",
   "metadata": {},
   "outputs": [
    {
     "name": "stdout",
     "output_type": "stream",
     "text": [
      "Best Parameters for XGBoost: {'subsample': 1.0, 'n_estimators': 300, 'max_depth': 5, 'learning_rate': 0.1}\n"
     ]
    }
   ],
   "source": [
    "from xgboost import XGBRegressor\n",
    "\n",
    "param_grid_xgb = {\n",
    "    \"n_estimators\": [100, 200, 300],\n",
    "    \"learning_rate\": [0.01, 0.05, 0.1, 0.2],\n",
    "    \"max_depth\": [3, 5, 7, 10],\n",
    "    \"subsample\": [0.6, 0.8, 1.0]\n",
    "}\n",
    "\n",
    "xgb_search = RandomizedSearchCV(XGBRegressor(random_state=42),\n",
    "                                param_grid_xgb, cv=3, scoring=\"r2\", n_jobs=-1)\n",
    "xgb_search.fit(X_train, y_train)\n",
    "\n",
    "print(\"Best Parameters for XGBoost:\", xgb_search.best_params_)"
   ]
  },
  {
   "cell_type": "markdown",
   "id": "8934e44b-6c77-4f89-a816-fde36fbf86c1",
   "metadata": {},
   "source": [
    "## Final Model Selection & Evaluation"
   ]
  },
  {
   "cell_type": "code",
   "execution_count": 19,
   "id": "05517881-9107-41e8-8847-64fceba2696f",
   "metadata": {},
   "outputs": [
    {
     "name": "stdout",
     "output_type": "stream",
     "text": [
      "Random Forest - R²: 0.963, RMSE: 2.200\n",
      "XGBoost - R²: 0.986, RMSE: 1.343\n"
     ]
    }
   ],
   "source": [
    "best_rf = rf_search.best_estimator_\n",
    "best_xgb = xgb_search.best_estimator_\n",
    "\n",
    "y_pred_rf = best_rf.predict(X_train)\n",
    "y_pred_xgb = best_xgb.predict(X_train)\n",
    "\n",
    "# Evaluate performance\n",
    "from sklearn.metrics import r2_score, mean_squared_error\n",
    "\n",
    "r2_rf = r2_score(y_train, y_pred_rf)\n",
    "rmse_rf = mean_squared_error(y_train, y_pred_rf) ** 0.5\n",
    "\n",
    "r2_xgb = r2_score(y_train, y_pred_xgb)\n",
    "rmse_xgb = mean_squared_error(y_train, y_pred_xgb) ** 0.5\n",
    "\n",
    "print(f\"Random Forest - R²: {r2_rf:.3f}, RMSE: {rmse_rf:.3f}\")\n",
    "print(f\"XGBoost - R²: {r2_xgb:.3f}, RMSE: {rmse_xgb:.3f}\")"
   ]
  },
  {
   "cell_type": "code",
   "execution_count": 20,
   "id": "70da91d8-d1a3-4a45-88e7-1c4e81a66361",
   "metadata": {},
   "outputs": [
    {
     "name": "stdout",
     "output_type": "stream",
     "text": [
      "Saved XGBoost model!\n"
     ]
    }
   ],
   "source": [
    "import joblib\n",
    "\n",
    "if r2_xgb > r2_rf:\n",
    "    joblib.dump(best_xgb, \"best_model_xgb.pkl\")\n",
    "    print(\"Saved XGBoost model!\")\n",
    "else:\n",
    "    joblib.dump(best_rf, \"best_model_rf.pkl\")\n",
    "    print(\"Saved Random Forest model!\")"
   ]
  },
  {
   "cell_type": "code",
   "execution_count": 21,
   "id": "82b29bc2-f11a-449f-b2e6-7ad9789bc4c6",
   "metadata": {},
   "outputs": [
    {
     "data": {
      "text/plain": [
       "Text(0.5, 1.0, 'XGBoost Feature Importance')"
      ]
     },
     "execution_count": 21,
     "metadata": {},
     "output_type": "execute_result"
    },
    {
     "data": {
      "image/png": "[encoded data removed]",
      "text/plain": [
       "<Figure size 1200x500 with 1 Axes>"
      ]
     },
     "metadata": {},
     "output_type": "display_data"
    }
   ],
   "source": [
    "import matplotlib.pyplot as plt\n",
    "import numpy as np\n",
    "\n",
    "# Feature importance from XGBoost\n",
    "xgb_importance = xgb_model.feature_importances_\n",
    "\n",
    "# Feature importance from Random Forest\n",
    "rf_importance = rf_model.feature_importances_\n",
    "\n",
    "# Get feature names\n",
    "feature_names = X_train.columns\n",
    "\n",
    "# Sort features by importance\n",
    "sorted_idx_xgb = np.argsort(xgb_importance)[::-1]  # Descending order\n",
    "sorted_idx_rf = np.argsort(rf_importance)[::-1]\n",
    "\n",
    "# Select top 10 features\n",
    "top_n = 10\n",
    "top_features_xgb = feature_names[sorted_idx_xgb[:top_n]]\n",
    "top_features_rf = feature_names[sorted_idx_rf[:top_n]]\n",
    "\n",
    "# Plot XGBoost Feature Importance\n",
    "plt.figure(figsize=(12, 5))\n",
    "\n",
    "plt.subplot(1, 2, 1)\n",
    "plt.barh(top_features_xgb[::-1], xgb_importance[sorted_idx_xgb[:top_n]][::-1], color=\"blue\")\n",
    "plt.xlabel(\"Importance Score\")\n",
    "plt.ylabel(\"Feature\")\n",
    "plt.title(\"XGBoost Feature Importance\")"
   ]
  },
  {
   "cell_type": "code",
   "execution_count": 22,
   "id": "0cc14260-c013-4b1c-82bc-9ab8dab580f8",
   "metadata": {},
   "outputs": [
    {
     "data": {
      "image/png": "[encoded data removed]",
      "text/plain": [
       "<Figure size 640x480 with 1 Axes>"
      ]
     },
     "metadata": {},
     "output_type": "display_data"
    }
   ],
   "source": [
    "# Plot Random Forest Feature Importance\n",
    "plt.subplot(1, 2, 2)\n",
    "plt.barh(top_features_rf[::-1], rf_importance[sorted_idx_rf[:top_n]][::-1], color=\"green\")\n",
    "plt.xlabel(\"Importance Score\")\n",
    "plt.ylabel(\"Feature\")\n",
    "plt.title(\"Random Forest Feature Importance\")\n",
    "\n",
    "plt.tight_layout()\n",
    "plt.show()"
   ]
  },
  {
   "cell_type": "code",
   "execution_count": 23,
   "id": "4825bf0c-1a79-428c-8f9c-984c71283cf2",
   "metadata": {},
   "outputs": [
    {
     "name": "stdout",
     "output_type": "stream",
     "text": [
      "✅ Selected Features: ['Mileage', 'Engine', 'Transmission_Manual', 'Owner_Type_Second', 'Power', 'Seats', 'Year', 'Fuel_Type_Diesel', 'Fuel_Type_Petrol', 'Kilometers_Driven']\n",
      "🔹 New X_train shape: (4699, 10)\n"
     ]
    }
   ],
   "source": [
    "import numpy as np\n",
    "\n",
    "top_n = 10  # Keep top 10 most important features\n",
    "\n",
    "# Get top features from XGBoost\n",
    "sorted_idx_xgb = np.argsort(xgb_model.feature_importances_)[::-1]\n",
    "top_features_xgb = X_train.columns[sorted_idx_xgb[:top_n]]\n",
    "\n",
    "# Get top features from Random Forest\n",
    "sorted_idx_rf = np.argsort(rf_model.feature_importances_)[::-1]\n",
    "top_features_rf = X_train.columns[sorted_idx_rf[:top_n]]\n",
    "\n",
    "# Take the **union** of important features from both models\n",
    "selected_features = list(set(top_features_xgb) | set(top_features_rf))  # Avoid dropping too much\n",
    "\n",
    "# Filter dataset\n",
    "X_train_selected = X_train[selected_features]\n",
    "X_val_selected = X_val[selected_features]\n",
    "\n",
    "print(\"✅ Selected Features:\", selected_features)\n",
    "print(\"🔹 New X_train shape:\", X_train_selected.shape)"
   ]
  },
  {
   "cell_type": "code",
   "execution_count": 24,
   "id": "ec67228a-d636-4698-878a-dc9b0c3b27cf",
   "metadata": {},
   "outputs": [],
   "source": [
    "# Train XGBoost\n",
    "xgb_model.fit(X_train_selected, y_train)\n",
    "y_pred_xgb = xgb_model.predict(X_val_selected)\n",
    "\n",
    "# Train Random Forest\n",
    "rf_model.fit(X_train_selected, y_train)\n",
    "y_pred_rf = rf_model.predict(X_val_selected)"
   ]
  },
  {
   "cell_type": "code",
   "execution_count": 25,
   "id": "300e94be-059f-4a10-b2fc-bb6be0e3d1bd",
   "metadata": {},
   "outputs": [
    {
     "name": "stdout",
     "output_type": "stream",
     "text": [
      "📊 Random Forest Performance:\n",
      " R²: 0.904, RMSE: 3.224, MAE: 1.549\n",
      "\n",
      "📊 XGBoost Performance:\n",
      " R²: 0.890, RMSE: 3.445, MAE: 1.521\n",
      "\n"
     ]
    }
   ],
   "source": [
    "from sklearn.metrics import mean_squared_error, mean_absolute_error, r2_score\n",
    "\n",
    "def evaluate_model(y_true, y_pred, model_name):\n",
    "    r2 = r2_score(y_true, y_pred)\n",
    "    rmse = np.sqrt(mean_squared_error(y_true, y_pred))\n",
    "    mae = mean_absolute_error(y_true, y_pred)\n",
    "    print(f\"📊 {model_name} Performance:\\n R²: {r2:.3f}, RMSE: {rmse:.3f}, MAE: {mae:.3f}\\n\")\n",
    "\n",
    "# Evaluate both models\n",
    "evaluate_model(y_val, y_pred_rf, \"Random Forest\")\n",
    "evaluate_model(y_val, y_pred_xgb, \"XGBoost\")"
   ]
  },
  {
   "cell_type": "code",
   "execution_count": null,
   "id": "c2c7e47c-b978-4cc5-a476-31fcd09245d0",
   "metadata": {},
   "outputs": [],
   "source": []
  }
 ],
 "metadata": {
  "kernelspec": {
   "display_name": "Python 3 (ipykernel)",
   "language": "python",
   "name": "python3"
  },
  "language_info": {
   "codemirror_mode": {
    "name": "ipython",
    "version": 3
   },
   "file_extension": ".py",
   "mimetype": "text/x-python",
   "name": "python",
   "nbconvert_exporter": "python",
   "pygments_lexer": "ipython3",
   "version": "3.12.6"
  }
 },
 "nbformat": 4,
 "nbformat_minor": 5
}
