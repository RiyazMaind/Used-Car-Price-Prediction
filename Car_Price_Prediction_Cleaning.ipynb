{
 "cells": [
  {
   "cell_type": "code",
   "execution_count": 1,
   "id": "af4df3e8-1fd5-4c14-9ff7-8a250af3d572",
   "metadata": {},
   "outputs": [],
   "source": [
    "import pandas as pd\n",
    "import warnings\n",
    "warnings.simplefilter(action='ignore', category=FutureWarning)"
   ]
  },
  {
   "cell_type": "markdown",
   "id": "59408302-ee36-43b6-bb70-66022d741d4c",
   "metadata": {},
   "source": [
    "## Load Train & Test Datasets"
   ]
  },
  {
   "cell_type": "code",
   "execution_count": 2,
   "id": "3cdf94c8-fb12-4ffa-8dbe-0370dcfb33ec",
   "metadata": {},
   "outputs": [],
   "source": [
    "# Load training and testing data\n",
    "train_df = pd.read_csv(\"train.csv\")\n",
    "test_df = pd.read_csv(\"test.csv\")"
   ]
  },
  {
   "cell_type": "code",
   "execution_count": 3,
   "id": "27888f31-59d5-4e58-a679-7f2274341bdc",
   "metadata": {},
   "outputs": [
    {
     "data": {
      "text/html": [
       "<div>\n",
       "<style scoped>\n",
       "    .dataframe tbody tr th:only-of-type {\n",
       "        vertical-align: middle;\n",
       "    }\n",
       "\n",
       "    .dataframe tbody tr th {\n",
       "        vertical-align: top;\n",
       "    }\n",
       "\n",
       "    .dataframe thead th {\n",
       "        text-align: right;\n",
       "    }\n",
       "</style>\n",
       "<table border=\"1\" class=\"dataframe\">\n",
       "  <thead>\n",
       "    <tr style=\"text-align: right;\">\n",
       "      <th></th>\n",
       "      <th>Name</th>\n",
       "      <th>Location</th>\n",
       "      <th>Year</th>\n",
       "      <th>Kilometers_Driven</th>\n",
       "      <th>Fuel_Type</th>\n",
       "      <th>Transmission</th>\n",
       "      <th>Owner_Type</th>\n",
       "      <th>Mileage</th>\n",
       "      <th>Engine</th>\n",
       "      <th>Power</th>\n",
       "      <th>Seats</th>\n",
       "      <th>New_Price</th>\n",
       "      <th>Price</th>\n",
       "    </tr>\n",
       "  </thead>\n",
       "  <tbody>\n",
       "    <tr>\n",
       "      <th>0</th>\n",
       "      <td>Maruti Wagon R LXI CNG</td>\n",
       "      <td>Mumbai</td>\n",
       "      <td>2010</td>\n",
       "      <td>72000</td>\n",
       "      <td>CNG</td>\n",
       "      <td>Manual</td>\n",
       "      <td>First</td>\n",
       "      <td>26.6 km/kg</td>\n",
       "      <td>998 CC</td>\n",
       "      <td>58.16 bhp</td>\n",
       "      <td>5.0</td>\n",
       "      <td>NaN</td>\n",
       "      <td>1.75</td>\n",
       "    </tr>\n",
       "    <tr>\n",
       "      <th>1</th>\n",
       "      <td>Hyundai Creta 1.6 CRDi SX Option</td>\n",
       "      <td>Pune</td>\n",
       "      <td>2015</td>\n",
       "      <td>41000</td>\n",
       "      <td>Diesel</td>\n",
       "      <td>Manual</td>\n",
       "      <td>First</td>\n",
       "      <td>19.67 kmpl</td>\n",
       "      <td>1582 CC</td>\n",
       "      <td>126.2 bhp</td>\n",
       "      <td>5.0</td>\n",
       "      <td>NaN</td>\n",
       "      <td>12.50</td>\n",
       "    </tr>\n",
       "    <tr>\n",
       "      <th>2</th>\n",
       "      <td>Honda Jazz V</td>\n",
       "      <td>Chennai</td>\n",
       "      <td>2011</td>\n",
       "      <td>46000</td>\n",
       "      <td>Petrol</td>\n",
       "      <td>Manual</td>\n",
       "      <td>First</td>\n",
       "      <td>18.2 kmpl</td>\n",
       "      <td>1199 CC</td>\n",
       "      <td>88.7 bhp</td>\n",
       "      <td>5.0</td>\n",
       "      <td>8.61 Lakh</td>\n",
       "      <td>4.50</td>\n",
       "    </tr>\n",
       "    <tr>\n",
       "      <th>3</th>\n",
       "      <td>Maruti Ertiga VDI</td>\n",
       "      <td>Chennai</td>\n",
       "      <td>2012</td>\n",
       "      <td>87000</td>\n",
       "      <td>Diesel</td>\n",
       "      <td>Manual</td>\n",
       "      <td>First</td>\n",
       "      <td>20.77 kmpl</td>\n",
       "      <td>1248 CC</td>\n",
       "      <td>88.76 bhp</td>\n",
       "      <td>7.0</td>\n",
       "      <td>NaN</td>\n",
       "      <td>6.00</td>\n",
       "    </tr>\n",
       "    <tr>\n",
       "      <th>4</th>\n",
       "      <td>Audi A4 New 2.0 TDI Multitronic</td>\n",
       "      <td>Coimbatore</td>\n",
       "      <td>2013</td>\n",
       "      <td>40670</td>\n",
       "      <td>Diesel</td>\n",
       "      <td>Automatic</td>\n",
       "      <td>Second</td>\n",
       "      <td>15.2 kmpl</td>\n",
       "      <td>1968 CC</td>\n",
       "      <td>140.8 bhp</td>\n",
       "      <td>5.0</td>\n",
       "      <td>NaN</td>\n",
       "      <td>17.74</td>\n",
       "    </tr>\n",
       "  </tbody>\n",
       "</table>\n",
       "</div>"
      ],
      "text/plain": [
       "                               Name    Location  Year  Kilometers_Driven  \\\n",
       "0            Maruti Wagon R LXI CNG      Mumbai  2010              72000   \n",
       "1  Hyundai Creta 1.6 CRDi SX Option        Pune  2015              41000   \n",
       "2                      Honda Jazz V     Chennai  2011              46000   \n",
       "3                 Maruti Ertiga VDI     Chennai  2012              87000   \n",
       "4   Audi A4 New 2.0 TDI Multitronic  Coimbatore  2013              40670   \n",
       "\n",
       "  Fuel_Type Transmission Owner_Type     Mileage   Engine      Power  Seats  \\\n",
       "0       CNG       Manual      First  26.6 km/kg   998 CC  58.16 bhp    5.0   \n",
       "1    Diesel       Manual      First  19.67 kmpl  1582 CC  126.2 bhp    5.0   \n",
       "2    Petrol       Manual      First   18.2 kmpl  1199 CC   88.7 bhp    5.0   \n",
       "3    Diesel       Manual      First  20.77 kmpl  1248 CC  88.76 bhp    7.0   \n",
       "4    Diesel    Automatic     Second   15.2 kmpl  1968 CC  140.8 bhp    5.0   \n",
       "\n",
       "   New_Price  Price  \n",
       "0        NaN   1.75  \n",
       "1        NaN  12.50  \n",
       "2  8.61 Lakh   4.50  \n",
       "3        NaN   6.00  \n",
       "4        NaN  17.74  "
      ]
     },
     "execution_count": 3,
     "metadata": {},
     "output_type": "execute_result"
    }
   ],
   "source": [
    "# Display first few rows\n",
    "train_df.head()"
   ]
  },
  {
   "cell_type": "markdown",
   "id": "418c6f53-1445-4f80-8d7a-5c13d178c690",
   "metadata": {},
   "source": [
    "## Check Data Structure & Missing Values"
   ]
  },
  {
   "cell_type": "code",
   "execution_count": 4,
   "id": "9cc8eede-05a5-4c2a-864e-86758a41f2d3",
   "metadata": {},
   "outputs": [
    {
     "name": "stdout",
     "output_type": "stream",
     "text": [
      "<class 'pandas.core.frame.DataFrame'>\n",
      "RangeIndex: 6019 entries, 0 to 6018\n",
      "Data columns (total 13 columns):\n",
      " #   Column             Non-Null Count  Dtype  \n",
      "---  ------             --------------  -----  \n",
      " 0   Name               6019 non-null   object \n",
      " 1   Location           6019 non-null   object \n",
      " 2   Year               6019 non-null   int64  \n",
      " 3   Kilometers_Driven  6019 non-null   int64  \n",
      " 4   Fuel_Type          6019 non-null   object \n",
      " 5   Transmission       6019 non-null   object \n",
      " 6   Owner_Type         6019 non-null   object \n",
      " 7   Mileage            6017 non-null   object \n",
      " 8   Engine             5983 non-null   object \n",
      " 9   Power              5983 non-null   object \n",
      " 10  Seats              5977 non-null   float64\n",
      " 11  New_Price          824 non-null    object \n",
      " 12  Price              6019 non-null   float64\n",
      "dtypes: float64(2), int64(2), object(9)\n",
      "memory usage: 611.4+ KB\n",
      "<class 'pandas.core.frame.DataFrame'>\n",
      "RangeIndex: 1234 entries, 0 to 1233\n",
      "Data columns (total 12 columns):\n",
      " #   Column             Non-Null Count  Dtype  \n",
      "---  ------             --------------  -----  \n",
      " 0   Name               1234 non-null   object \n",
      " 1   Location           1234 non-null   object \n",
      " 2   Year               1234 non-null   int64  \n",
      " 3   Kilometers_Driven  1234 non-null   int64  \n",
      " 4   Fuel_Type          1234 non-null   object \n",
      " 5   Transmission       1234 non-null   object \n",
      " 6   Owner_Type         1234 non-null   object \n",
      " 7   Mileage            1234 non-null   object \n",
      " 8   Engine             1224 non-null   object \n",
      " 9   Power              1224 non-null   object \n",
      " 10  Seats              1223 non-null   float64\n",
      " 11  New_Price          182 non-null    object \n",
      "dtypes: float64(1), int64(2), object(9)\n",
      "memory usage: 115.8+ KB\n"
     ]
    }
   ],
   "source": [
    "# Check column details\n",
    "train_df.info()\n",
    "test_df.info()"
   ]
  },
  {
   "cell_type": "code",
   "execution_count": 5,
   "id": "25ac4a62-62b2-40ab-9f8d-7be3611a7de9",
   "metadata": {},
   "outputs": [
    {
     "name": "stdout",
     "output_type": "stream",
     "text": [
      "Name                    0\n",
      "Location                0\n",
      "Year                    0\n",
      "Kilometers_Driven       0\n",
      "Fuel_Type               0\n",
      "Transmission            0\n",
      "Owner_Type              0\n",
      "Mileage                 2\n",
      "Engine                 36\n",
      "Power                  36\n",
      "Seats                  42\n",
      "New_Price            5195\n",
      "Price                   0\n",
      "dtype: int64\n",
      "Name                    0\n",
      "Location                0\n",
      "Year                    0\n",
      "Kilometers_Driven       0\n",
      "Fuel_Type               0\n",
      "Transmission            0\n",
      "Owner_Type              0\n",
      "Mileage                 0\n",
      "Engine                 10\n",
      "Power                  10\n",
      "Seats                  11\n",
      "New_Price            1052\n",
      "dtype: int64\n"
     ]
    }
   ],
   "source": [
    "# Check missing values\n",
    "print(train_df.isnull().sum())\n",
    "print(test_df.isnull().sum())"
   ]
  },
  {
   "cell_type": "markdown",
   "id": "29d79adb-d52a-436b-8b3c-7edce994fdb2",
   "metadata": {},
   "source": [
    "## Data Cleaning"
   ]
  },
  {
   "cell_type": "code",
   "execution_count": 6,
   "id": "e6d29baf-7cdc-41c4-b5cf-71d519a51a2f",
   "metadata": {},
   "outputs": [],
   "source": [
    "# Fill missing values in 'Seats' with the most common value\n",
    "train_df[\"Seats\"].fillna(train_df[\"Seats\"].mode()[0], inplace=True)\n",
    "test_df[\"Seats\"].fillna(test_df[\"Seats\"].mode()[0], inplace=True)\n",
    "\n",
    "# Convert 'Mileage' to numeric (extracting only the number)\n",
    "train_df[\"Mileage\"] = train_df[\"Mileage\"].str.split().str[0].astype(float)\n",
    "test_df[\"Mileage\"] = test_df[\"Mileage\"].str.split().str[0].astype(float)\n",
    "\n",
    "# Convert 'Engine' to numeric\n",
    "train_df[\"Engine\"] = train_df[\"Engine\"].str.replace(\" CC\", \"\").astype(float)\n",
    "test_df[\"Engine\"] = test_df[\"Engine\"].str.replace(\" CC\", \"\").astype(float)\n",
    "\n",
    "# Convert 'Power' to numeric (handling 'null' values)\n",
    "train_df[\"Power\"] = train_df[\"Power\"].str.replace(\" bhp\", \"\").replace(\"null\", None).astype(float)\n",
    "test_df[\"Power\"] = test_df[\"Power\"].str.replace(\" bhp\", \"\").replace(\"null\", None).astype(float)\n",
    "\n",
    "# Drop 'New_Price' as it has too many missing values\n",
    "train_df.drop([\"New_Price\"], axis=1, inplace=True)\n",
    "test_df.drop([\"New_Price\"], axis=1, inplace=True)"
   ]
  },
  {
   "cell_type": "markdown",
   "id": "e2be96b6-7540-4f70-aa5c-0d37f95a3aa0",
   "metadata": {},
   "source": [
    "## Encode Categorical Features (Fuel_Type, Transmission, Owner_Type)"
   ]
  },
  {
   "cell_type": "code",
   "execution_count": 7,
   "id": "e1f096de-3590-4477-bf35-c4877f871c2c",
   "metadata": {},
   "outputs": [],
   "source": [
    "# Convert categorical data to numeric using One-Hot Encoding\n",
    "train_df = pd.get_dummies(train_df, columns=['Fuel_Type', 'Transmission', 'Owner_Type'], drop_first=True)\n",
    "test_df = pd.get_dummies(test_df, columns=['Fuel_Type', 'Transmission', 'Owner_Type'], drop_first=True)"
   ]
  },
  {
   "cell_type": "markdown",
   "id": "9d1dbeda-ae49-4cbb-ad59-2c4c8b5a9000",
   "metadata": {},
   "source": [
    "## Save Cleaned Data"
   ]
  },
  {
   "cell_type": "code",
   "execution_count": 8,
   "id": "4c37b50c-feac-44b6-87a6-5c59fac1b200",
   "metadata": {},
   "outputs": [
    {
     "name": "stdout",
     "output_type": "stream",
     "text": [
      "Data cleaning complete. Ready for modeling!\n"
     ]
    }
   ],
   "source": [
    "# Save cleaned datasets\n",
    "train_df.to_csv(\"cleaned_train.csv\", index=False)\n",
    "test_df.to_csv(\"cleaned_test.csv\", index=False)\n",
    "\n",
    "print(\"Data cleaning complete. Ready for modeling!\")"
   ]
  },
  {
   "cell_type": "code",
   "execution_count": 9,
   "id": "bb90c96b-df02-442d-9c8c-4b7dca6ca65f",
   "metadata": {},
   "outputs": [
    {
     "name": "stdout",
     "output_type": "stream",
     "text": [
      "Name                           0\n",
      "Location                       0\n",
      "Year                           0\n",
      "Kilometers_Driven              0\n",
      "Mileage                        2\n",
      "Engine                        36\n",
      "Power                        143\n",
      "Seats                          0\n",
      "Price                          0\n",
      "Fuel_Type_Diesel               0\n",
      "Fuel_Type_Electric             0\n",
      "Fuel_Type_LPG                  0\n",
      "Fuel_Type_Petrol               0\n",
      "Transmission_Manual            0\n",
      "Owner_Type_Fourth & Above      0\n",
      "Owner_Type_Second              0\n",
      "Owner_Type_Third               0\n",
      "dtype: int64\n",
      "Name                          0\n",
      "Location                      0\n",
      "Year                          0\n",
      "Kilometers_Driven             0\n",
      "Mileage                       0\n",
      "Engine                       10\n",
      "Power                        32\n",
      "Seats                         0\n",
      "Fuel_Type_Diesel              0\n",
      "Fuel_Type_LPG                 0\n",
      "Fuel_Type_Petrol              0\n",
      "Transmission_Manual           0\n",
      "Owner_Type_Fourth & Above     0\n",
      "Owner_Type_Second             0\n",
      "Owner_Type_Third              0\n",
      "dtype: int64\n"
     ]
    }
   ],
   "source": [
    "print(train_df.isnull().sum())\n",
    "print(test_df.isnull().sum())"
   ]
  },
  {
   "cell_type": "code",
   "execution_count": null,
   "id": "75cda4c5-99f2-46b2-8e0b-3df16b621506",
   "metadata": {},
   "outputs": [],
   "source": []
  }
 ],
 "metadata": {
  "kernelspec": {
   "display_name": "Python 3 (ipykernel)",
   "language": "python",
   "name": "python3"
  },
  "language_info": {
   "codemirror_mode": {
    "name": "ipython",
    "version": 3
   },
   "file_extension": ".py",
   "mimetype": "text/x-python",
   "name": "python",
   "nbconvert_exporter": "python",
   "pygments_lexer": "ipython3",
   "version": "3.12.6"
  }
 },
 "nbformat": 4,
 "nbformat_minor": 5
}
